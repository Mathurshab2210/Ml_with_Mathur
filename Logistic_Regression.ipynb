{
  "nbformat": 4,
  "nbformat_minor": 0,
  "metadata": {
    "colab": {
      "provenance": [],
      "collapsed_sections": [],
      "authorship_tag": "ABX9TyM/4j7PeC6bnRqzK/8zTmDT",
      "include_colab_link": true
    },
    "kernelspec": {
      "name": "python3",
      "display_name": "Python 3"
    },
    "language_info": {
      "name": "python"
    },
    "accelerator": "GPU",
    "gpuClass": "standard"
  },
  "cells": [
    {
      "cell_type": "markdown",
      "metadata": {
        "id": "view-in-github",
        "colab_type": "text"
      },
      "source": [
        "<a href=\"https://colab.research.google.com/github/Mathurshab2210/Data_sci_Python/blob/main/Logistic_Regression.ipynb\" target=\"_parent\"><img src=\"https://colab.research.google.com/assets/colab-badge.svg\" alt=\"Open In Colab\"/></a>"
      ]
    },
    {
      "cell_type": "code",
      "execution_count": 8,
      "metadata": {
        "id": "DNiVJ_LsCnn9"
      },
      "outputs": [],
      "source": [
        "from sklearn import datasets\n",
        "import numpy as np\n",
        "#to classify flower is irirs verginica or not"
      ]
    },
    {
      "cell_type": "code",
      "source": [
        "iris=datasets.load_iris()"
      ],
      "metadata": {
        "id": "VeVLRW-FHkkf"
      },
      "execution_count": 2,
      "outputs": []
    },
    {
      "cell_type": "code",
      "source": [
        "print(list(iris.keys()))"
      ],
      "metadata": {
        "colab": {
          "base_uri": "https://localhost:8080/"
        },
        "id": "zfVQCLrgID4a",
        "outputId": "9d80d1e7-0a33-4fd3-954a-463f07a55861"
      },
      "execution_count": 3,
      "outputs": [
        {
          "output_type": "stream",
          "name": "stdout",
          "text": [
            "['data', 'target', 'frame', 'target_names', 'DESCR', 'feature_names', 'filename', 'data_module']\n"
          ]
        }
      ]
    },
    {
      "cell_type": "code",
      "source": [
        "print(iris['data'])"
      ],
      "metadata": {
        "colab": {
          "base_uri": "https://localhost:8080/"
        },
        "id": "p_shUEP1IIFI",
        "outputId": "348e4e19-c6db-48d5-bb8d-136f34ad5362"
      },
      "execution_count": 4,
      "outputs": [
        {
          "output_type": "stream",
          "name": "stdout",
          "text": [
            "[[5.1 3.5 1.4 0.2]\n",
            " [4.9 3.  1.4 0.2]\n",
            " [4.7 3.2 1.3 0.2]\n",
            " [4.6 3.1 1.5 0.2]\n",
            " [5.  3.6 1.4 0.2]\n",
            " [5.4 3.9 1.7 0.4]\n",
            " [4.6 3.4 1.4 0.3]\n",
            " [5.  3.4 1.5 0.2]\n",
            " [4.4 2.9 1.4 0.2]\n",
            " [4.9 3.1 1.5 0.1]\n",
            " [5.4 3.7 1.5 0.2]\n",
            " [4.8 3.4 1.6 0.2]\n",
            " [4.8 3.  1.4 0.1]\n",
            " [4.3 3.  1.1 0.1]\n",
            " [5.8 4.  1.2 0.2]\n",
            " [5.7 4.4 1.5 0.4]\n",
            " [5.4 3.9 1.3 0.4]\n",
            " [5.1 3.5 1.4 0.3]\n",
            " [5.7 3.8 1.7 0.3]\n",
            " [5.1 3.8 1.5 0.3]\n",
            " [5.4 3.4 1.7 0.2]\n",
            " [5.1 3.7 1.5 0.4]\n",
            " [4.6 3.6 1.  0.2]\n",
            " [5.1 3.3 1.7 0.5]\n",
            " [4.8 3.4 1.9 0.2]\n",
            " [5.  3.  1.6 0.2]\n",
            " [5.  3.4 1.6 0.4]\n",
            " [5.2 3.5 1.5 0.2]\n",
            " [5.2 3.4 1.4 0.2]\n",
            " [4.7 3.2 1.6 0.2]\n",
            " [4.8 3.1 1.6 0.2]\n",
            " [5.4 3.4 1.5 0.4]\n",
            " [5.2 4.1 1.5 0.1]\n",
            " [5.5 4.2 1.4 0.2]\n",
            " [4.9 3.1 1.5 0.2]\n",
            " [5.  3.2 1.2 0.2]\n",
            " [5.5 3.5 1.3 0.2]\n",
            " [4.9 3.6 1.4 0.1]\n",
            " [4.4 3.  1.3 0.2]\n",
            " [5.1 3.4 1.5 0.2]\n",
            " [5.  3.5 1.3 0.3]\n",
            " [4.5 2.3 1.3 0.3]\n",
            " [4.4 3.2 1.3 0.2]\n",
            " [5.  3.5 1.6 0.6]\n",
            " [5.1 3.8 1.9 0.4]\n",
            " [4.8 3.  1.4 0.3]\n",
            " [5.1 3.8 1.6 0.2]\n",
            " [4.6 3.2 1.4 0.2]\n",
            " [5.3 3.7 1.5 0.2]\n",
            " [5.  3.3 1.4 0.2]\n",
            " [7.  3.2 4.7 1.4]\n",
            " [6.4 3.2 4.5 1.5]\n",
            " [6.9 3.1 4.9 1.5]\n",
            " [5.5 2.3 4.  1.3]\n",
            " [6.5 2.8 4.6 1.5]\n",
            " [5.7 2.8 4.5 1.3]\n",
            " [6.3 3.3 4.7 1.6]\n",
            " [4.9 2.4 3.3 1. ]\n",
            " [6.6 2.9 4.6 1.3]\n",
            " [5.2 2.7 3.9 1.4]\n",
            " [5.  2.  3.5 1. ]\n",
            " [5.9 3.  4.2 1.5]\n",
            " [6.  2.2 4.  1. ]\n",
            " [6.1 2.9 4.7 1.4]\n",
            " [5.6 2.9 3.6 1.3]\n",
            " [6.7 3.1 4.4 1.4]\n",
            " [5.6 3.  4.5 1.5]\n",
            " [5.8 2.7 4.1 1. ]\n",
            " [6.2 2.2 4.5 1.5]\n",
            " [5.6 2.5 3.9 1.1]\n",
            " [5.9 3.2 4.8 1.8]\n",
            " [6.1 2.8 4.  1.3]\n",
            " [6.3 2.5 4.9 1.5]\n",
            " [6.1 2.8 4.7 1.2]\n",
            " [6.4 2.9 4.3 1.3]\n",
            " [6.6 3.  4.4 1.4]\n",
            " [6.8 2.8 4.8 1.4]\n",
            " [6.7 3.  5.  1.7]\n",
            " [6.  2.9 4.5 1.5]\n",
            " [5.7 2.6 3.5 1. ]\n",
            " [5.5 2.4 3.8 1.1]\n",
            " [5.5 2.4 3.7 1. ]\n",
            " [5.8 2.7 3.9 1.2]\n",
            " [6.  2.7 5.1 1.6]\n",
            " [5.4 3.  4.5 1.5]\n",
            " [6.  3.4 4.5 1.6]\n",
            " [6.7 3.1 4.7 1.5]\n",
            " [6.3 2.3 4.4 1.3]\n",
            " [5.6 3.  4.1 1.3]\n",
            " [5.5 2.5 4.  1.3]\n",
            " [5.5 2.6 4.4 1.2]\n",
            " [6.1 3.  4.6 1.4]\n",
            " [5.8 2.6 4.  1.2]\n",
            " [5.  2.3 3.3 1. ]\n",
            " [5.6 2.7 4.2 1.3]\n",
            " [5.7 3.  4.2 1.2]\n",
            " [5.7 2.9 4.2 1.3]\n",
            " [6.2 2.9 4.3 1.3]\n",
            " [5.1 2.5 3.  1.1]\n",
            " [5.7 2.8 4.1 1.3]\n",
            " [6.3 3.3 6.  2.5]\n",
            " [5.8 2.7 5.1 1.9]\n",
            " [7.1 3.  5.9 2.1]\n",
            " [6.3 2.9 5.6 1.8]\n",
            " [6.5 3.  5.8 2.2]\n",
            " [7.6 3.  6.6 2.1]\n",
            " [4.9 2.5 4.5 1.7]\n",
            " [7.3 2.9 6.3 1.8]\n",
            " [6.7 2.5 5.8 1.8]\n",
            " [7.2 3.6 6.1 2.5]\n",
            " [6.5 3.2 5.1 2. ]\n",
            " [6.4 2.7 5.3 1.9]\n",
            " [6.8 3.  5.5 2.1]\n",
            " [5.7 2.5 5.  2. ]\n",
            " [5.8 2.8 5.1 2.4]\n",
            " [6.4 3.2 5.3 2.3]\n",
            " [6.5 3.  5.5 1.8]\n",
            " [7.7 3.8 6.7 2.2]\n",
            " [7.7 2.6 6.9 2.3]\n",
            " [6.  2.2 5.  1.5]\n",
            " [6.9 3.2 5.7 2.3]\n",
            " [5.6 2.8 4.9 2. ]\n",
            " [7.7 2.8 6.7 2. ]\n",
            " [6.3 2.7 4.9 1.8]\n",
            " [6.7 3.3 5.7 2.1]\n",
            " [7.2 3.2 6.  1.8]\n",
            " [6.2 2.8 4.8 1.8]\n",
            " [6.1 3.  4.9 1.8]\n",
            " [6.4 2.8 5.6 2.1]\n",
            " [7.2 3.  5.8 1.6]\n",
            " [7.4 2.8 6.1 1.9]\n",
            " [7.9 3.8 6.4 2. ]\n",
            " [6.4 2.8 5.6 2.2]\n",
            " [6.3 2.8 5.1 1.5]\n",
            " [6.1 2.6 5.6 1.4]\n",
            " [7.7 3.  6.1 2.3]\n",
            " [6.3 3.4 5.6 2.4]\n",
            " [6.4 3.1 5.5 1.8]\n",
            " [6.  3.  4.8 1.8]\n",
            " [6.9 3.1 5.4 2.1]\n",
            " [6.7 3.1 5.6 2.4]\n",
            " [6.9 3.1 5.1 2.3]\n",
            " [5.8 2.7 5.1 1.9]\n",
            " [6.8 3.2 5.9 2.3]\n",
            " [6.7 3.3 5.7 2.5]\n",
            " [6.7 3.  5.2 2.3]\n",
            " [6.3 2.5 5.  1.9]\n",
            " [6.5 3.  5.2 2. ]\n",
            " [6.2 3.4 5.4 2.3]\n",
            " [5.9 3.  5.1 1.8]]\n"
          ]
        }
      ]
    },
    {
      "cell_type": "code",
      "source": [
        "print(iris['target'])"
      ],
      "metadata": {
        "colab": {
          "base_uri": "https://localhost:8080/"
        },
        "id": "Q2dxmvk4ISgt",
        "outputId": "bfb15ffa-a476-411d-c2b5-6843e081d19c"
      },
      "execution_count": 5,
      "outputs": [
        {
          "output_type": "stream",
          "name": "stdout",
          "text": [
            "[0 0 0 0 0 0 0 0 0 0 0 0 0 0 0 0 0 0 0 0 0 0 0 0 0 0 0 0 0 0 0 0 0 0 0 0 0\n",
            " 0 0 0 0 0 0 0 0 0 0 0 0 0 1 1 1 1 1 1 1 1 1 1 1 1 1 1 1 1 1 1 1 1 1 1 1 1\n",
            " 1 1 1 1 1 1 1 1 1 1 1 1 1 1 1 1 1 1 1 1 1 1 1 1 1 1 2 2 2 2 2 2 2 2 2 2 2\n",
            " 2 2 2 2 2 2 2 2 2 2 2 2 2 2 2 2 2 2 2 2 2 2 2 2 2 2 2 2 2 2 2 2 2 2 2 2 2\n",
            " 2 2]\n"
          ]
        }
      ]
    },
    {
      "cell_type": "code",
      "source": [
        "print(iris['DESCR'])"
      ],
      "metadata": {
        "colab": {
          "base_uri": "https://localhost:8080/"
        },
        "id": "C5IU4WylIZHT",
        "outputId": "801293bf-9607-404b-d1cb-989a31ff3ef2"
      },
      "execution_count": 6,
      "outputs": [
        {
          "output_type": "stream",
          "name": "stdout",
          "text": [
            ".. _iris_dataset:\n",
            "\n",
            "Iris plants dataset\n",
            "--------------------\n",
            "\n",
            "**Data Set Characteristics:**\n",
            "\n",
            "    :Number of Instances: 150 (50 in each of three classes)\n",
            "    :Number of Attributes: 4 numeric, predictive attributes and the class\n",
            "    :Attribute Information:\n",
            "        - sepal length in cm\n",
            "        - sepal width in cm\n",
            "        - petal length in cm\n",
            "        - petal width in cm\n",
            "        - class:\n",
            "                - Iris-Setosa\n",
            "                - Iris-Versicolour\n",
            "                - Iris-Virginica\n",
            "                \n",
            "    :Summary Statistics:\n",
            "\n",
            "    ============== ==== ==== ======= ===== ====================\n",
            "                    Min  Max   Mean    SD   Class Correlation\n",
            "    ============== ==== ==== ======= ===== ====================\n",
            "    sepal length:   4.3  7.9   5.84   0.83    0.7826\n",
            "    sepal width:    2.0  4.4   3.05   0.43   -0.4194\n",
            "    petal length:   1.0  6.9   3.76   1.76    0.9490  (high!)\n",
            "    petal width:    0.1  2.5   1.20   0.76    0.9565  (high!)\n",
            "    ============== ==== ==== ======= ===== ====================\n",
            "\n",
            "    :Missing Attribute Values: None\n",
            "    :Class Distribution: 33.3% for each of 3 classes.\n",
            "    :Creator: R.A. Fisher\n",
            "    :Donor: Michael Marshall (MARSHALL%PLU@io.arc.nasa.gov)\n",
            "    :Date: July, 1988\n",
            "\n",
            "The famous Iris database, first used by Sir R.A. Fisher. The dataset is taken\n",
            "from Fisher's paper. Note that it's the same as in R, but not as in the UCI\n",
            "Machine Learning Repository, which has two wrong data points.\n",
            "\n",
            "This is perhaps the best known database to be found in the\n",
            "pattern recognition literature.  Fisher's paper is a classic in the field and\n",
            "is referenced frequently to this day.  (See Duda & Hart, for example.)  The\n",
            "data set contains 3 classes of 50 instances each, where each class refers to a\n",
            "type of iris plant.  One class is linearly separable from the other 2; the\n",
            "latter are NOT linearly separable from each other.\n",
            "\n",
            ".. topic:: References\n",
            "\n",
            "   - Fisher, R.A. \"The use of multiple measurements in taxonomic problems\"\n",
            "     Annual Eugenics, 7, Part II, 179-188 (1936); also in \"Contributions to\n",
            "     Mathematical Statistics\" (John Wiley, NY, 1950).\n",
            "   - Duda, R.O., & Hart, P.E. (1973) Pattern Classification and Scene Analysis.\n",
            "     (Q327.D83) John Wiley & Sons.  ISBN 0-471-22361-1.  See page 218.\n",
            "   - Dasarathy, B.V. (1980) \"Nosing Around the Neighborhood: A New System\n",
            "     Structure and Classification Rule for Recognition in Partially Exposed\n",
            "     Environments\".  IEEE Transactions on Pattern Analysis and Machine\n",
            "     Intelligence, Vol. PAMI-2, No. 1, 67-71.\n",
            "   - Gates, G.W. (1972) \"The Reduced Nearest Neighbor Rule\".  IEEE Transactions\n",
            "     on Information Theory, May 1972, 431-433.\n",
            "   - See also: 1988 MLC Proceedings, 54-64.  Cheeseman et al\"s AUTOCLASS II\n",
            "     conceptual clustering system finds 3 classes in the data.\n",
            "   - Many, many more ...\n"
          ]
        }
      ]
    },
    {
      "cell_type": "code",
      "source": [
        "X=iris['data']"
      ],
      "metadata": {
        "id": "xs7qtlgqIc0u"
      },
      "execution_count": 7,
      "outputs": []
    },
    {
      "cell_type": "code",
      "source": [
        "Y=(iris['target'] == 2).astype(np.int)\n",
        "print(Y)"
      ],
      "metadata": {
        "colab": {
          "base_uri": "https://localhost:8080/"
        },
        "id": "ScfOHqdLJpBW",
        "outputId": "f5572bb5-afaf-437e-c990-076fe18a3d1b"
      },
      "execution_count": 10,
      "outputs": [
        {
          "output_type": "stream",
          "name": "stdout",
          "text": [
            "[0 0 0 0 0 0 0 0 0 0 0 0 0 0 0 0 0 0 0 0 0 0 0 0 0 0 0 0 0 0 0 0 0 0 0 0 0\n",
            " 0 0 0 0 0 0 0 0 0 0 0 0 0 0 0 0 0 0 0 0 0 0 0 0 0 0 0 0 0 0 0 0 0 0 0 0 0\n",
            " 0 0 0 0 0 0 0 0 0 0 0 0 0 0 0 0 0 0 0 0 0 0 0 0 0 0 1 1 1 1 1 1 1 1 1 1 1\n",
            " 1 1 1 1 1 1 1 1 1 1 1 1 1 1 1 1 1 1 1 1 1 1 1 1 1 1 1 1 1 1 1 1 1 1 1 1 1\n",
            " 1 1]\n"
          ]
        },
        {
          "output_type": "stream",
          "name": "stderr",
          "text": [
            "/usr/local/lib/python3.7/dist-packages/ipykernel_launcher.py:1: DeprecationWarning: `np.int` is a deprecated alias for the builtin `int`. To silence this warning, use `int` by itself. Doing this will not modify any behavior and is safe. When replacing `np.int`, you may wish to use e.g. `np.int64` or `np.int32` to specify the precision. If you wish to review your current use, check the release note link for additional information.\n",
            "Deprecated in NumPy 1.20; for more details and guidance: https://numpy.org/devdocs/release/1.20.0-notes.html#deprecations\n",
            "  \"\"\"Entry point for launching an IPython kernel.\n"
          ]
        }
      ]
    },
    {
      "cell_type": "code",
      "source": [
        "#train logistic regression classifier\n",
        "from sklearn.linear_model import LogisticRegression\n",
        "\n",
        "clf=LogisticRegression()\n",
        "clf.fit(X,Y)"
      ],
      "metadata": {
        "colab": {
          "base_uri": "https://localhost:8080/"
        },
        "id": "4fDTdoxiKnyr",
        "outputId": "6420a556-2b6c-4a41-cfab-b6accf4f4c8c"
      },
      "execution_count": 13,
      "outputs": [
        {
          "output_type": "execute_result",
          "data": {
            "text/plain": [
              "LogisticRegression()"
            ]
          },
          "metadata": {},
          "execution_count": 13
        }
      ]
    },
    {
      "cell_type": "code",
      "source": [
        "example= clf.predict(([[6.2 ,3.4 ,5.4 ,2.3]]))"
      ],
      "metadata": {
        "id": "F7fEW-yuK5Eo"
      },
      "execution_count": 22,
      "outputs": []
    },
    {
      "cell_type": "code",
      "source": [
        "print(example)"
      ],
      "metadata": {
        "colab": {
          "base_uri": "https://localhost:8080/"
        },
        "id": "JULCvA9bLQFB",
        "outputId": "46125c7d-bbf5-4b7c-d7c7-a77967c5bfbe"
      },
      "execution_count": 23,
      "outputs": [
        {
          "output_type": "stream",
          "name": "stdout",
          "text": [
            "[1]\n"
          ]
        }
      ]
    },
    {
      "cell_type": "code",
      "source": [
        "import matplotlib.pyplot as plt\n",
        "X_new=np.linspace(0,3,600).reshape(-1,4)\n",
        "print(X_new)\n"
      ],
      "metadata": {
        "colab": {
          "base_uri": "https://localhost:8080/"
        },
        "id": "bAUPmWyRLSGN",
        "outputId": "33b2e66e-b09f-4472-d43a-ad88161f8adf"
      },
      "execution_count": 29,
      "outputs": [
        {
          "output_type": "stream",
          "name": "stdout",
          "text": [
            "[[0.         0.00500835 0.01001669 0.01502504]\n",
            " [0.02003339 0.02504174 0.03005008 0.03505843]\n",
            " [0.04006678 0.04507513 0.05008347 0.05509182]\n",
            " [0.06010017 0.06510851 0.07011686 0.07512521]\n",
            " [0.08013356 0.0851419  0.09015025 0.0951586 ]\n",
            " [0.10016694 0.10517529 0.11018364 0.11519199]\n",
            " [0.12020033 0.12520868 0.13021703 0.13522538]\n",
            " [0.14023372 0.14524207 0.15025042 0.15525876]\n",
            " [0.16026711 0.16527546 0.17028381 0.17529215]\n",
            " [0.1803005  0.18530885 0.1903172  0.19532554]\n",
            " [0.20033389 0.20534224 0.21035058 0.21535893]\n",
            " [0.22036728 0.22537563 0.23038397 0.23539232]\n",
            " [0.24040067 0.24540902 0.25041736 0.25542571]\n",
            " [0.26043406 0.2654424  0.27045075 0.2754591 ]\n",
            " [0.28046745 0.28547579 0.29048414 0.29549249]\n",
            " [0.30050083 0.30550918 0.31051753 0.31552588]\n",
            " [0.32053422 0.32554257 0.33055092 0.33555927]\n",
            " [0.34056761 0.34557596 0.35058431 0.35559265]\n",
            " [0.360601   0.36560935 0.3706177  0.37562604]\n",
            " [0.38063439 0.38564274 0.39065109 0.39565943]\n",
            " [0.40066778 0.40567613 0.41068447 0.41569282]\n",
            " [0.42070117 0.42570952 0.43071786 0.43572621]\n",
            " [0.44073456 0.4457429  0.45075125 0.4557596 ]\n",
            " [0.46076795 0.46577629 0.47078464 0.47579299]\n",
            " [0.48080134 0.48580968 0.49081803 0.49582638]\n",
            " [0.50083472 0.50584307 0.51085142 0.51585977]\n",
            " [0.52086811 0.52587646 0.53088481 0.53589316]\n",
            " [0.5409015  0.54590985 0.5509182  0.55592654]\n",
            " [0.56093489 0.56594324 0.57095159 0.57595993]\n",
            " [0.58096828 0.58597663 0.59098497 0.59599332]\n",
            " [0.60100167 0.60601002 0.61101836 0.61602671]\n",
            " [0.62103506 0.62604341 0.63105175 0.6360601 ]\n",
            " [0.64106845 0.64607679 0.65108514 0.65609349]\n",
            " [0.66110184 0.66611018 0.67111853 0.67612688]\n",
            " [0.68113523 0.68614357 0.69115192 0.69616027]\n",
            " [0.70116861 0.70617696 0.71118531 0.71619366]\n",
            " [0.721202   0.72621035 0.7312187  0.73622705]\n",
            " [0.74123539 0.74624374 0.75125209 0.75626043]\n",
            " [0.76126878 0.76627713 0.77128548 0.77629382]\n",
            " [0.78130217 0.78631052 0.79131886 0.79632721]\n",
            " [0.80133556 0.80634391 0.81135225 0.8163606 ]\n",
            " [0.82136895 0.8263773  0.83138564 0.83639399]\n",
            " [0.84140234 0.84641068 0.85141903 0.85642738]\n",
            " [0.86143573 0.86644407 0.87145242 0.87646077]\n",
            " [0.88146912 0.88647746 0.89148581 0.89649416]\n",
            " [0.9015025  0.90651085 0.9115192  0.91652755]\n",
            " [0.92153589 0.92654424 0.93155259 0.93656093]\n",
            " [0.94156928 0.94657763 0.95158598 0.95659432]\n",
            " [0.96160267 0.96661102 0.97161937 0.97662771]\n",
            " [0.98163606 0.98664441 0.99165275 0.9966611 ]\n",
            " [1.00166945 1.0066778  1.01168614 1.01669449]\n",
            " [1.02170284 1.02671119 1.03171953 1.03672788]\n",
            " [1.04173623 1.04674457 1.05175292 1.05676127]\n",
            " [1.06176962 1.06677796 1.07178631 1.07679466]\n",
            " [1.08180301 1.08681135 1.0918197  1.09682805]\n",
            " [1.10183639 1.10684474 1.11185309 1.11686144]\n",
            " [1.12186978 1.12687813 1.13188648 1.13689482]\n",
            " [1.14190317 1.14691152 1.15191987 1.15692821]\n",
            " [1.16193656 1.16694491 1.17195326 1.1769616 ]\n",
            " [1.18196995 1.1869783  1.19198664 1.19699499]\n",
            " [1.20200334 1.20701169 1.21202003 1.21702838]\n",
            " [1.22203673 1.22704508 1.23205342 1.23706177]\n",
            " [1.24207012 1.24707846 1.25208681 1.25709516]\n",
            " [1.26210351 1.26711185 1.2721202  1.27712855]\n",
            " [1.28213689 1.28714524 1.29215359 1.29716194]\n",
            " [1.30217028 1.30717863 1.31218698 1.31719533]\n",
            " [1.32220367 1.32721202 1.33222037 1.33722871]\n",
            " [1.34223706 1.34724541 1.35225376 1.3572621 ]\n",
            " [1.36227045 1.3672788  1.37228715 1.37729549]\n",
            " [1.38230384 1.38731219 1.39232053 1.39732888]\n",
            " [1.40233723 1.40734558 1.41235392 1.41736227]\n",
            " [1.42237062 1.42737896 1.43238731 1.43739566]\n",
            " [1.44240401 1.44741235 1.4524207  1.45742905]\n",
            " [1.4624374  1.46744574 1.47245409 1.47746244]\n",
            " [1.48247078 1.48747913 1.49248748 1.49749583]\n",
            " [1.50250417 1.50751252 1.51252087 1.51752922]\n",
            " [1.52253756 1.52754591 1.53255426 1.5375626 ]\n",
            " [1.54257095 1.5475793  1.55258765 1.55759599]\n",
            " [1.56260434 1.56761269 1.57262104 1.57762938]\n",
            " [1.58263773 1.58764608 1.59265442 1.59766277]\n",
            " [1.60267112 1.60767947 1.61268781 1.61769616]\n",
            " [1.62270451 1.62771285 1.6327212  1.63772955]\n",
            " [1.6427379  1.64774624 1.65275459 1.65776294]\n",
            " [1.66277129 1.66777963 1.67278798 1.67779633]\n",
            " [1.68280467 1.68781302 1.69282137 1.69782972]\n",
            " [1.70283806 1.70784641 1.71285476 1.71786311]\n",
            " [1.72287145 1.7278798  1.73288815 1.73789649]\n",
            " [1.74290484 1.74791319 1.75292154 1.75792988]\n",
            " [1.76293823 1.76794658 1.77295492 1.77796327]\n",
            " [1.78297162 1.78797997 1.79298831 1.79799666]\n",
            " [1.80300501 1.80801336 1.8130217  1.81803005]\n",
            " [1.8230384  1.82804674 1.83305509 1.83806344]\n",
            " [1.84307179 1.84808013 1.85308848 1.85809683]\n",
            " [1.86310518 1.86811352 1.87312187 1.87813022]\n",
            " [1.88313856 1.88814691 1.89315526 1.89816361]\n",
            " [1.90317195 1.9081803  1.91318865 1.91819699]\n",
            " [1.92320534 1.92821369 1.93322204 1.93823038]\n",
            " [1.94323873 1.94824708 1.95325543 1.95826377]\n",
            " [1.96327212 1.96828047 1.97328881 1.97829716]\n",
            " [1.98330551 1.98831386 1.9933222  1.99833055]\n",
            " [2.0033389  2.00834725 2.01335559 2.01836394]\n",
            " [2.02337229 2.02838063 2.03338898 2.03839733]\n",
            " [2.04340568 2.04841402 2.05342237 2.05843072]\n",
            " [2.06343907 2.06844741 2.07345576 2.07846411]\n",
            " [2.08347245 2.0884808  2.09348915 2.0984975 ]\n",
            " [2.10350584 2.10851419 2.11352254 2.11853088]\n",
            " [2.12353923 2.12854758 2.13355593 2.13856427]\n",
            " [2.14357262 2.14858097 2.15358932 2.15859766]\n",
            " [2.16360601 2.16861436 2.1736227  2.17863105]\n",
            " [2.1836394  2.18864775 2.19365609 2.19866444]\n",
            " [2.20367279 2.20868114 2.21368948 2.21869783]\n",
            " [2.22370618 2.22871452 2.23372287 2.23873122]\n",
            " [2.24373957 2.24874791 2.25375626 2.25876461]\n",
            " [2.26377295 2.2687813  2.27378965 2.278798  ]\n",
            " [2.28380634 2.28881469 2.29382304 2.29883139]\n",
            " [2.30383973 2.30884808 2.31385643 2.31886477]\n",
            " [2.32387312 2.32888147 2.33388982 2.33889816]\n",
            " [2.34390651 2.34891486 2.35392321 2.35893155]\n",
            " [2.3639399  2.36894825 2.37395659 2.37896494]\n",
            " [2.38397329 2.38898164 2.39398998 2.39899833]\n",
            " [2.40400668 2.40901503 2.41402337 2.41903172]\n",
            " [2.42404007 2.42904841 2.43405676 2.43906511]\n",
            " [2.44407346 2.4490818  2.45409015 2.4590985 ]\n",
            " [2.46410684 2.46911519 2.47412354 2.47913189]\n",
            " [2.48414023 2.48914858 2.49415693 2.49916528]\n",
            " [2.50417362 2.50918197 2.51419032 2.51919866]\n",
            " [2.52420701 2.52921536 2.53422371 2.53923205]\n",
            " [2.5442404  2.54924875 2.5542571  2.55926544]\n",
            " [2.56427379 2.56928214 2.57429048 2.57929883]\n",
            " [2.58430718 2.58931553 2.59432387 2.59933222]\n",
            " [2.60434057 2.60934891 2.61435726 2.61936561]\n",
            " [2.62437396 2.6293823  2.63439065 2.639399  ]\n",
            " [2.64440735 2.64941569 2.65442404 2.65943239]\n",
            " [2.66444073 2.66944908 2.67445743 2.67946578]\n",
            " [2.68447412 2.68948247 2.69449082 2.69949917]\n",
            " [2.70450751 2.70951586 2.71452421 2.71953255]\n",
            " [2.7245409  2.72954925 2.7345576  2.73956594]\n",
            " [2.74457429 2.74958264 2.75459098 2.75959933]\n",
            " [2.76460768 2.76961603 2.77462437 2.77963272]\n",
            " [2.78464107 2.78964942 2.79465776 2.79966611]\n",
            " [2.80467446 2.8096828  2.81469115 2.8196995 ]\n",
            " [2.82470785 2.82971619 2.83472454 2.83973289]\n",
            " [2.84474124 2.84974958 2.85475793 2.85976628]\n",
            " [2.86477462 2.86978297 2.87479132 2.87979967]\n",
            " [2.88480801 2.88981636 2.89482471 2.89983306]\n",
            " [2.9048414  2.90984975 2.9148581  2.91986644]\n",
            " [2.92487479 2.92988314 2.93489149 2.93989983]\n",
            " [2.94490818 2.94991653 2.95492487 2.95993322]\n",
            " [2.96494157 2.96994992 2.97495826 2.97996661]\n",
            " [2.98497496 2.98998331 2.99499165 3.        ]]\n"
          ]
        }
      ]
    },
    {
      "cell_type": "code",
      "source": [
        "Y_prob=clf.predict_proba(X_new)"
      ],
      "metadata": {
        "id": "tB0DbaFQNKIJ"
      },
      "execution_count": 33,
      "outputs": []
    },
    {
      "cell_type": "code",
      "source": [
        "plt.plot(X_new,Y_prob[:,1],\"g-\", Label=\"virginica\")"
      ],
      "metadata": {
        "colab": {
          "base_uri": "https://localhost:8080/",
          "height": 334
        },
        "id": "QDkVA3tVNkXi",
        "outputId": "35ca1464-b3b5-4e7d-bbea-0cbd0efd6892"
      },
      "execution_count": 35,
      "outputs": [
        {
          "output_type": "execute_result",
          "data": {
            "text/plain": [
              "[<matplotlib.lines.Line2D at 0x7f2422385a10>,\n",
              " <matplotlib.lines.Line2D at 0x7f2422385c10>,\n",
              " <matplotlib.lines.Line2D at 0x7f2422385e10>,\n",
              " <matplotlib.lines.Line2D at 0x7f2422385fd0>]"
            ]
          },
          "metadata": {},
          "execution_count": 35
        },
        {
          "output_type": "display_data",
          "data": {
            "text/plain": [
              "<Figure size 432x288 with 1 Axes>"
            ],
            "image/png": "[encoded data removed]"
          },
          "metadata": {
            "needs_background": "light"
          }
        }
      ]
    },
    {
      "cell_type": "code",
      "source": [],
      "metadata": {
        "id": "f6NvGv4sN_2L"
      },
      "execution_count": null,
      "outputs": []
    }
  ]
}