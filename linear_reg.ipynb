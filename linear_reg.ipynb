{
  "nbformat": 4,
  "nbformat_minor": 0,
  "metadata": {
    "colab": {
      "provenance": [],
      "collapsed_sections": [],
      "authorship_tag": "ABX9TyOGA3pglWIiOKTj9JaLm5Hq",
      "include_colab_link": true
    },
    "kernelspec": {
      "name": "python3",
      "display_name": "Python 3"
    },
    "language_info": {
      "name": "python"
    },
    "accelerator": "GPU",
    "gpuClass": "standard"
  },
  "cells": [
    {
      "cell_type": "markdown",
      "metadata": {
        "id": "view-in-github",
        "colab_type": "text"
      },
      "source": [
        "<a href=\"https://colab.research.google.com/github/Mathurshab2210/Data_sci_Python/blob/main/linear_reg.ipynb\" target=\"_parent\"><img src=\"https://colab.research.google.com/assets/colab-badge.svg\" alt=\"Open In Colab\"/></a>"
      ]
    },
    {
      "cell_type": "code",
      "execution_count": null,
      "metadata": {
        "id": "hR-xHewevCHf"
      },
      "outputs": [],
      "source": []
    },
    {
      "cell_type": "code",
      "source": [
        "import matplotlib.pyplot as plt\n",
        "import numpy as np\n",
        "from sklearn import datasets,linear_model\n",
        "from sklearn.metrics import mean_squared_error\n"
      ],
      "metadata": {
        "id": "1OeoZj2evC3a"
      },
      "execution_count": 1,
      "outputs": []
    },
    {
      "cell_type": "code",
      "source": [
        "diabetes=datasets.load_diabetes()\n",
        "print(diabetes.keys())"
      ],
      "metadata": {
        "colab": {
          "base_uri": "https://localhost:8080/"
        },
        "id": "VpZJT4WZvix7",
        "outputId": "c5905921-5abb-402f-d74f-a63fd4ddf1fc"
      },
      "execution_count": 2,
      "outputs": [
        {
          "output_type": "stream",
          "name": "stdout",
          "text": [
            "dict_keys(['data', 'target', 'frame', 'DESCR', 'feature_names', 'data_filename', 'target_filename', 'data_module'])\n"
          ]
        }
      ]
    },
    {
      "cell_type": "code",
      "source": [
        "diabetes_X=diabetes.data\n",
        "diabetes_X_train=diabetes_X[:-30]\n",
        "diabetes_X_test=diabetes_X[-30:]\n",
        "diabetes_Y_train=diabetes.target[:-30]\n",
        "diabetes_Y_test=diabetes.target[-30:]"
      ],
      "metadata": {
        "id": "_2ip2PYDwKPY"
      },
      "execution_count": 14,
      "outputs": []
    },
    {
      "cell_type": "code",
      "source": [
        "model=linear_model.LinearRegression()\n"
      ],
      "metadata": {
        "id": "gKvFMRNdxKUw"
      },
      "execution_count": 15,
      "outputs": []
    },
    {
      "cell_type": "code",
      "source": [
        "model.fit(diabetes_X_train,diabetes_Y_train)\n",
        "diabetes_Y_pred=model.predict(diabetes_X_test)\n",
        "print(\"mean sq error is :\", mean_squared_error(diabetes_Y_test,diabetes_Y_pred))"
      ],
      "metadata": {
        "colab": {
          "base_uri": "https://localhost:8080/"
        },
        "id": "Qa3saQxjyKC1",
        "outputId": "fa26f255-965e-4dc8-e394-945b11fecf64"
      },
      "execution_count": 16,
      "outputs": [
        {
          "output_type": "stream",
          "name": "stdout",
          "text": [
            "mean sq error is : 1826.5364191345423\n"
          ]
        }
      ]
    },
    {
      "cell_type": "code",
      "source": [
        "print(\"weights\", model.coef_)\n",
        "print(\"intercept\", model.intercept_)"
      ],
      "metadata": {
        "colab": {
          "base_uri": "https://localhost:8080/"
        },
        "id": "w71Yzc6GzzNf",
        "outputId": "48d53c6f-796c-48da-ecc3-7336fed334a4"
      },
      "execution_count": 17,
      "outputs": [
        {
          "output_type": "stream",
          "name": "stdout",
          "text": [
            "weights [  -1.16924976 -237.18461486  518.30606657  309.04865826 -763.14121622\n",
            "  458.90999325   80.62441437  174.32183366  721.49712065   79.19307944]\n",
            "intercept 153.05827988224112\n"
          ]
        }
      ]
    },
    {
      "cell_type": "code",
      "source": [
        "plt.scatter(diabetes_X_test,diabetes_Y_test)"
      ],
      "metadata": {
        "colab": {
          "base_uri": "https://localhost:8080/",
          "height": 282
        },
        "id": "L-t7ZGG10IFp",
        "outputId": "6f0a7145-b83b-41b3-d333-0d5b37d6efe9"
      },
      "execution_count": 8,
      "outputs": [
        {
          "output_type": "execute_result",
          "data": {
            "text/plain": [
              "<matplotlib.collections.PathCollection at 0x7f6976c8a210>"
            ]
          },
          "metadata": {},
          "execution_count": 8
        },
        {
          "output_type": "display_data",
          "data": {
            "text/plain": [
              "<Figure size 432x288 with 1 Axes>"
            ],
            "image/png": "[encoded data removed]"
          },
          "metadata": {
            "needs_background": "light"
          }
        }
      ]
    },
    {
      "cell_type": "code",
      "source": [
        "plt.plot(diabetes_X_test,diabetes_Y_pred)"
      ],
      "metadata": {
        "colab": {
          "base_uri": "https://localhost:8080/",
          "height": 282
        },
        "id": "f1neTVbOy-4e",
        "outputId": "05a57212-6d69-47b8-81bc-7eb78dc9d64c"
      },
      "execution_count": 13,
      "outputs": [
        {
          "output_type": "execute_result",
          "data": {
            "text/plain": [
              "[<matplotlib.lines.Line2D at 0x7f6962ab4310>]"
            ]
          },
          "metadata": {},
          "execution_count": 13
        },
        {
          "output_type": "display_data",
          "data": {
            "text/plain": [
              "<Figure size 432x288 with 1 Axes>"
            ],
            "image/png": "[encoded data removed]"
          },
          "metadata": {
            "needs_background": "light"
          }
        }
      ]
    },
    {
      "cell_type": "code",
      "source": [
        "print(diabetes_Y_pred)"
      ],
      "metadata": {
        "colab": {
          "base_uri": "https://localhost:8080/"
        },
        "id": "EENGGDfIz36z",
        "outputId": "1b9e9237-c0d6-488c-ced8-230b3279a158"
      },
      "execution_count": 18,
      "outputs": [
        {
          "output_type": "stream",
          "name": "stdout",
          "text": [
            "[234.04069476 122.92246614 166.35433115 174.39222892 226.94851442\n",
            " 151.82190227 100.94358512  83.08956073 143.1298667  192.67823683\n",
            " 197.98434449 154.37965196 173.16544327 112.38886823 164.20528828\n",
            " 131.63666326 258.66439447 101.4126313  117.87101994 123.5370635\n",
            " 219.5123662   62.09123359 133.09435929 121.33048447  53.51502538\n",
            " 193.125764   104.69007361 123.68983031 211.27336049  53.87045485]\n"
          ]
        }
      ]
    },
    {
      "cell_type": "code",
      "source": [],
      "metadata": {
        "id": "6HuEyvsp0YAo"
      },
      "execution_count": null,
      "outputs": []
    }
  ]
}